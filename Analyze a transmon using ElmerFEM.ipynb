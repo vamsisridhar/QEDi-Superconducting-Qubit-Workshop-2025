{
 "cells": [
  {
   "cell_type": "markdown",
   "id": "075bd937-5d0c-4e29-8351-faa413a5f7d1",
   "metadata": {},
   "source": [
    "# Analyse a Transmon Qubit using ElmerFEM\n",
    "This notebook demonstrates the new open-source rendering and simulation capabilities of Qiskit Metal using `Gmsh` and `ElmerFEM` for tuning the performance parameters of a transmon qubit. instructions to download and install this branch of Qiskit Metal with Gmsh and ElmerFEM, can he found [here](https://github.com/Qiskit/qiskit-metal/blob/elmer_renderer/tutorials/4%20Analysis/B.%20Advanced%20-%20Direct%20use%20of%20the%20renderers/Gmsh-Elmer-install-instructions.md) The tutorial has the following steps:\n",
    "\n",
    "## Contents\n",
    "### 1. Creating a Transmon Qubit in Qiskit Metal\n",
    "### 2. Rendering and meshing your design in the `QGmshRenderer`\n",
    "- Rendering the design wireframe\n",
    "- Applying a basic mesh\n",
    "- Customizing the mesh\n",
    "    - Setting initial mesh size parameters\n",
    "    - Using the Intelli-mesh feature in `QGmshRenderer`\n",
    "- Saving your mesh to a file\n",
    "\n",
    "### 3. Rendering your design in `QElmerRenderer` (uses `QGmshRenderer`)\n",
    "- Render design and generate mesh\n",
    "- Export the mesh\n",
    "- Run the capacitance simulation\n",
    "    - Add solution setup\n",
    "    - Run the solver\n",
    "    - Export capacitance matrix\n",
    "\n",
    "### 4. Perform LOM 2.0 Analysis\n",
    "- Import the capacitance matrix\n",
    "- Define cells and subsystems\n",
    "- Define the composite system\n",
    "- Compute the results:\n",
    "    - Qubit Frequency ($f_Q$)\n",
    "    - Anharmonicity ($\\alpha$)\n",
    "    - Readout $\\chi$\n",
    "    - Coupling $g$"
   ]
  },
  {
   "cell_type": "markdown",
   "id": "be3cbb43-2c24-4139-b690-1d56047a03c5",
   "metadata": {},
   "source": [
    "# Necessary Imports"
   ]
  },
  {
   "cell_type": "code",
   "execution_count": 2,
   "id": "28f8c32e-5341-49d6-b63f-0e16419b162c",
   "metadata": {},
   "outputs": [],
   "source": [
    "\n",
    "\n",
    "# Import basic things of Qiskit Metal\n",
    "from qiskit_metal import MetalGUI, designs\n",
    "from qiskit_metal.qlibrary.qubits.transmon_pocket_6 import TransmonPocket6\n",
    "\n",
    "# Import the Gmsh renderer\n",
    "from qiskit_metal.renderers.renderer_gmsh.gmsh_renderer import QGmshRenderer\n",
    "\n",
    "# Import the Elmer renderer\n",
    "from qiskit_metal.renderers.renderer_elmer.elmer_renderer import QElmerRenderer\n",
    "from qiskit_metal.renderers.renderer_elmer.elmer_renderer import load_capacitance_matrix_from_file"
   ]
  },
  {
   "cell_type": "code",
   "execution_count": 3,
   "id": "31a7b793-64a5-44c6-9176-718f9b7c1c66",
   "metadata": {},
   "outputs": [],
   "source": [
    "# Instantiate a design object\n",
    "design = designs.MultiPlanar({}, True)\n",
    "\n",
    "# Invoke the Qiskit Metal GUI\n",
    "gui = MetalGUI(design)"
   ]
  },
  {
   "cell_type": "code",
   "execution_count": 4,
   "id": "6fe517d6-d32f-417c-a8fa-33061c2e54c6",
   "metadata": {},
   "outputs": [],
   "source": [
    "# Define a dictionary for connection pad options for the transmon\n",
    "conn_pads = dict(\n",
    "    connection_pads = dict(\n",
    "        readout = dict(loc_W=0, loc_H=-1),\n",
    "        coupler1 = dict(loc_W=-1, loc_H=1),\n",
    "        coupler2 = dict(loc_W=1, loc_H=1)\n",
    "    )\n",
    ")\n",
    "\n",
    "# Create a TransmonPocket6 object\n",
    "q1 = TransmonPocket6(design, \"Q1\", options=dict(**conn_pads))\n",
    "\n",
    "# Rebuild and autoscale the GUI\n",
    "gui.rebuild()\n",
    "gui.autoscale()"
   ]
  },
  {
   "cell_type": "markdown",
   "id": "2f118489-71a8-494f-8c1b-b6cc837382c3",
   "metadata": {},
   "source": [
    "## Rendering the design wireframe"
   ]
  },
  {
   "cell_type": "code",
   "execution_count": 5,
   "id": "713202e1-dedc-469d-8dc3-9fe99496e42e",
   "metadata": {},
   "outputs": [],
   "source": [
    "# Instantiate the Gmsh renderer\n",
    "gmsh_renderer = QGmshRenderer(design)\n",
    "\n",
    "# Render the design\n",
    "# Tip: `mesh_geoms = False` will not mesh the design,\n",
    "# but only draw the wire-frame of the geomtries\n",
    "gmsh_renderer.render_design(open_pins=[(\"Q1\", \"coupler1\"), (\"Q1\", \"coupler2\"), (\"Q1\", \"readout\")],\n",
    "                            mesh_geoms=False)"
   ]
  },
  {
   "cell_type": "code",
   "execution_count": 6,
   "id": "eef5a352-24f3-4257-968f-be197eeba30d",
   "metadata": {},
   "outputs": [],
   "source": [
    "# Launch Gmsh GUI to see the rendererd design\n",
    "gmsh_renderer.launch_gui()"
   ]
  },
  {
   "cell_type": "markdown",
   "id": "cea57dd6-816f-4649-a77c-e9b774dcc153",
   "metadata": {
    "tags": []
   },
   "source": [
    "## Applying a basic mesh"
   ]
  },
  {
   "cell_type": "code",
   "execution_count": 7,
   "id": "545d393c-8d57-4914-9dbc-92e8a0f32b0e",
   "metadata": {
    "scrolled": true,
    "tags": []
   },
   "outputs": [],
   "source": [
    "# Add a basic mesh to the design and luanch the GUI to view\n",
    "gmsh_renderer.add_mesh(dim=3, intelli_mesh=False)\n",
    "gmsh_renderer.launch_gui()"
   ]
  },
  {
   "cell_type": "markdown",
   "id": "6347235c-d319-4c61-a981-7e4005b25d15",
   "metadata": {
    "tags": []
   },
   "source": [
    "## Customizing the mesh\n",
    "### Setting initial mesh size parameters"
   ]
  },
  {
   "cell_type": "code",
   "execution_count": 8,
   "id": "b851f19f-e8d0-479e-b0ae-056fa8a47e9f",
   "metadata": {
    "scrolled": true,
    "tags": []
   },
   "outputs": [],
   "source": [
    "# Update the mesh options\n",
    "gmsh_renderer.options.mesh.min_size = '5um'\n",
    "gmsh_renderer.options.mesh.max_size = '20um'\n",
    "\n",
    "# Render the design\n",
    "gmsh_renderer.render_design(open_pins=[(\"Q1\", \"coupler1\"), (\"Q1\", \"coupler2\"), (\"Q1\", \"readout\")],\n",
    "                            mesh_geoms=False)\n",
    "\n",
    "# Mesh the design (without intelli-mesh)\n",
    "gmsh_renderer.add_mesh(intelli_mesh=False)\n",
    "gmsh_renderer.launch_gui()"
   ]
  },
  {
   "cell_type": "markdown",
   "id": "44bc0221-43d2-4551-b69d-4ab4f3f5b416",
   "metadata": {
    "tags": []
   },
   "source": [
    "### Using the Intelli-mesh feature in QGmshRenderer"
   ]
  },
  {
   "cell_type": "code",
   "execution_count": 10,
   "id": "4b02fbf9-2717-45b8-9293-3bd1121862f9",
   "metadata": {
    "scrolled": true,
    "tags": []
   },
   "outputs": [],
   "source": [
    "# Update the mesh options\n",
    "gmsh_renderer.options.mesh.min_size = '5um'\n",
    "gmsh_renderer.options.mesh.max_size = '50um'\n",
    "\n",
    "# Render and mesh the design (with intelli-mesh)\n",
    "gmsh_renderer.render_design(open_pins=[(\"Q1\", \"coupler1\"), (\"Q1\", \"coupler2\"), (\"Q1\", \"readout\")],\n",
    "                            mesh_geoms=True)\n",
    "gmsh_renderer.launch_gui()"
   ]
  },
  {
   "cell_type": "markdown",
   "id": "f441adcc-510f-4c8a-8516-1caf7dcb9166",
   "metadata": {},
   "source": [
    "## Saving your mesh to a file"
   ]
  },
  {
   "cell_type": "code",
   "execution_count": 11,
   "id": "af6556de-1546-47b5-8f26-9227af19ff86",
   "metadata": {},
   "outputs": [],
   "source": [
    "# Export the Gmsh generated mesh to a file\n",
    "gmsh_renderer.export_mesh(\"test.msh\")"
   ]
  },
  {
   "cell_type": "code",
   "execution_count": 12,
   "id": "3672846f-b035-4eab-80a9-3c199eb4fd7c",
   "metadata": {},
   "outputs": [
    {
     "data": {
      "text/plain": [
       "True"
      ]
     },
     "execution_count": 12,
     "metadata": {},
     "output_type": "execute_result"
    }
   ],
   "source": [
    "# Close the Gmsh renderer\n",
    "gmsh_renderer.close()"
   ]
  },
  {
   "cell_type": "code",
   "execution_count": 14,
   "id": "8c2f7a6a-f6ed-4892-96c3-a62f866ef37c",
   "metadata": {},
   "outputs": [],
   "source": [
    "# Instantiate the Elmer renderer\n",
    "elmer_renderer = QElmerRenderer(design)\n",
    "\n",
    "# Elmer renderer uses the Gmsh renderer to\n",
    "# generate a mesh for the design\n",
    "# Set initial parameters for meshing in Gmsh (IMPORTANT step!!)\n",
    "elmer_renderer.gmsh.options.mesh.min_size = \"5um\"\n",
    "elmer_renderer.gmsh.options.mesh.max_size = \"50um\""
   ]
  },
  {
   "cell_type": "code",
   "execution_count": 15,
   "id": "e7c297c2-be7e-495b-b98a-4062cab91be0",
   "metadata": {
    "scrolled": true,
    "tags": []
   },
   "outputs": [],
   "source": [
    "# Render the design\n",
    "elmer_renderer.render_design(open_pins=[(\"Q1\", \"coupler1\"), (\"Q1\", \"coupler2\"), (\"Q1\", \"readout\")],\n",
    "                             skip_junctions=True)"
   ]
  },
  {
   "cell_type": "code",
   "execution_count": 16,
   "id": "43145408-a90f-4e75-921d-ca8eafd5ea7e",
   "metadata": {},
   "outputs": [],
   "source": [
    "# View the generated mesh\n",
    "elmer_renderer.launch_gmsh_gui()"
   ]
  },
  {
   "cell_type": "code",
   "execution_count": 17,
   "id": "ab7e7c7a-9207-4943-bf0f-1d183a8d007c",
   "metadata": {},
   "outputs": [],
   "source": [
    "# Export the generated mesh\n",
    "elmer_renderer.export_mesh()"
   ]
  },
  {
   "cell_type": "code",
   "execution_count": 18,
   "id": "5cc8b22f-f281-45c3-a53a-f2a7c9a29fed",
   "metadata": {},
   "outputs": [],
   "source": [
    "# Add a solution setup to solve for the capacitance matrix\n",
    "elmer_renderer.add_solution_setup('capacitance')"
   ]
  },
  {
   "cell_type": "code",
   "execution_count": 19,
   "id": "020dc57e-d668-4d7b-b8fc-62fcceb6468d",
   "metadata": {},
   "outputs": [
    {
     "name": "stderr",
     "output_type": "stream",
     "text": [
      "02:29PM 56s INFO [run]: Running ElmerGrid on input mesh from Gmsh...\n",
      "02:29PM 58s INFO [run]: Running ElmerSolver for solver type: 'capacitance'\n"
     ]
    }
   ],
   "source": [
    "# Run the simulation in ElmerFEM\n",
    "elmer_renderer.run('capacitance')"
   ]
  },
  {
   "cell_type": "code",
   "execution_count": 20,
   "id": "b250b918-1cd7-429d-b015-92b114bf2594",
   "metadata": {},
   "outputs": [
    {
     "data": {
      "text/html": [
       "<div>\n",
       "<style scoped>\n",
       "    .dataframe tbody tr th:only-of-type {\n",
       "        vertical-align: middle;\n",
       "    }\n",
       "\n",
       "    .dataframe tbody tr th {\n",
       "        vertical-align: top;\n",
       "    }\n",
       "\n",
       "    .dataframe thead th {\n",
       "        text-align: right;\n",
       "    }\n",
       "</style>\n",
       "<table border=\"1\" class=\"dataframe\">\n",
       "  <thead>\n",
       "    <tr style=\"text-align: right;\">\n",
       "      <th></th>\n",
       "      <th>Q1_readout_connector_pad</th>\n",
       "      <th>Q1_coupler1_connector_pad</th>\n",
       "      <th>Q1_coupler2_connector_pad</th>\n",
       "      <th>Q1_pad_top</th>\n",
       "      <th>Q1_pad_bot</th>\n",
       "      <th>ground_plane</th>\n",
       "    </tr>\n",
       "  </thead>\n",
       "  <tbody>\n",
       "    <tr>\n",
       "      <th>Q1_readout_connector_pad</th>\n",
       "      <td>66.279838</td>\n",
       "      <td>-0.216820</td>\n",
       "      <td>-0.216614</td>\n",
       "      <td>-1.830034</td>\n",
       "      <td>-18.595522</td>\n",
       "      <td>-45.420848</td>\n",
       "    </tr>\n",
       "    <tr>\n",
       "      <th>Q1_coupler1_connector_pad</th>\n",
       "      <td>-0.216820</td>\n",
       "      <td>62.091324</td>\n",
       "      <td>-0.300029</td>\n",
       "      <td>-16.331246</td>\n",
       "      <td>-1.641218</td>\n",
       "      <td>-43.602012</td>\n",
       "    </tr>\n",
       "    <tr>\n",
       "      <th>Q1_coupler2_connector_pad</th>\n",
       "      <td>-0.216614</td>\n",
       "      <td>-0.300029</td>\n",
       "      <td>61.566540</td>\n",
       "      <td>-16.289859</td>\n",
       "      <td>-1.653599</td>\n",
       "      <td>-43.106438</td>\n",
       "    </tr>\n",
       "    <tr>\n",
       "      <th>Q1_pad_top</th>\n",
       "      <td>-1.830034</td>\n",
       "      <td>-16.331246</td>\n",
       "      <td>-16.289859</td>\n",
       "      <td>111.054655</td>\n",
       "      <td>-37.324129</td>\n",
       "      <td>-39.279387</td>\n",
       "    </tr>\n",
       "    <tr>\n",
       "      <th>Q1_pad_bot</th>\n",
       "      <td>-18.595522</td>\n",
       "      <td>-1.641218</td>\n",
       "      <td>-1.653599</td>\n",
       "      <td>-37.324129</td>\n",
       "      <td>104.266744</td>\n",
       "      <td>-45.052276</td>\n",
       "    </tr>\n",
       "    <tr>\n",
       "      <th>ground_plane</th>\n",
       "      <td>-45.420848</td>\n",
       "      <td>-43.602012</td>\n",
       "      <td>-43.106438</td>\n",
       "      <td>-39.279387</td>\n",
       "      <td>-45.052276</td>\n",
       "      <td>300.000000</td>\n",
       "    </tr>\n",
       "  </tbody>\n",
       "</table>\n",
       "</div>"
      ],
      "text/plain": [
       "                           Q1_readout_connector_pad  \\\n",
       "Q1_readout_connector_pad                  66.279838   \n",
       "Q1_coupler1_connector_pad                 -0.216820   \n",
       "Q1_coupler2_connector_pad                 -0.216614   \n",
       "Q1_pad_top                                -1.830034   \n",
       "Q1_pad_bot                               -18.595522   \n",
       "ground_plane                             -45.420848   \n",
       "\n",
       "                           Q1_coupler1_connector_pad  \\\n",
       "Q1_readout_connector_pad                   -0.216820   \n",
       "Q1_coupler1_connector_pad                  62.091324   \n",
       "Q1_coupler2_connector_pad                  -0.300029   \n",
       "Q1_pad_top                                -16.331246   \n",
       "Q1_pad_bot                                 -1.641218   \n",
       "ground_plane                              -43.602012   \n",
       "\n",
       "                           Q1_coupler2_connector_pad  Q1_pad_top  Q1_pad_bot  \\\n",
       "Q1_readout_connector_pad                   -0.216614   -1.830034  -18.595522   \n",
       "Q1_coupler1_connector_pad                  -0.300029  -16.331246   -1.641218   \n",
       "Q1_coupler2_connector_pad                  61.566540  -16.289859   -1.653599   \n",
       "Q1_pad_top                                -16.289859  111.054655  -37.324129   \n",
       "Q1_pad_bot                                 -1.653599  -37.324129  104.266744   \n",
       "ground_plane                              -43.106438  -39.279387  -45.052276   \n",
       "\n",
       "                           ground_plane  \n",
       "Q1_readout_connector_pad     -45.420848  \n",
       "Q1_coupler1_connector_pad    -43.602012  \n",
       "Q1_coupler2_connector_pad    -43.106438  \n",
       "Q1_pad_top                   -39.279387  \n",
       "Q1_pad_bot                   -45.052276  \n",
       "ground_plane                 300.000000  "
      ]
     },
     "execution_count": 20,
     "metadata": {},
     "output_type": "execute_result"
    }
   ],
   "source": [
    "# Display the capacitnce matrix obtained after the simulation\n",
    "elmer_renderer.capacitance_matrix"
   ]
  },
  {
   "cell_type": "code",
   "execution_count": 21,
   "id": "07625769-38c4-4be7-9c64-9e4e7b993506",
   "metadata": {},
   "outputs": [
    {
     "name": "stderr",
     "output_type": "stream",
     "text": [
      "02:31PM 24s INFO [model]: Added new model 'post_processing' and set as current.\n"
     ]
    }
   ],
   "source": [
    "# Run this, and in the Gmsh window,\n",
    "# Right click on an empty area, click on \"Toggle mesh visibility\"\n",
    "# Next, go to: Tools -> Visibility, select \"Physical groups\" in drop down menu\n",
    "# Select \"Volume 2\", click on apply\n",
    "# On the left pane, click on \"Post-processing\", and select the views that you want to observe\n",
    "elmer_renderer.display_post_processing_data()"
   ]
  },
  {
   "cell_type": "code",
   "execution_count": 22,
   "id": "ca5cf807-4323-48d8-b6cd-f5e38f3b24d3",
   "metadata": {},
   "outputs": [],
   "source": [
    "# Export the capacitance matrix\n",
    "elmer_renderer.save_capacitance_matrix(\"cap_matrix.txt\")\n",
    "\n",
    "# Close the elmer renderer\n",
    "elmer_renderer.close()"
   ]
  },
  {
   "cell_type": "code",
   "execution_count": 24,
   "id": "603f8d95-ac34-40e0-9574-53d0f6cde2b8",
   "metadata": {},
   "outputs": [
    {
     "name": "stderr",
     "output_type": "stream",
     "text": [
      "02:35PM 41s INFO [__init__]: TransmonBuilder with system_type TRANSMON registered to QuantumSystemRegistry\n",
      "02:35PM 41s INFO [__init__]: FluxoniumBuilder with system_type FLUXONIUM registered to QuantumSystemRegistry\n",
      "02:35PM 41s INFO [__init__]: TLResonatorBuilder with system_type TL_RESONATOR registered to QuantumSystemRegistry\n",
      "02:35PM 41s INFO [__init__]: LumpedResonatorBuilder with system_type LUMPED_RESONATOR registered to QuantumSystemRegistry\n"
     ]
    }
   ],
   "source": [
    "# Import necessary things for LOM 2.0 Analysis\n",
    "import numpy as np\n",
    "from qiskit_metal.analyses.quantization.lom_core_analysis import CompositeSystem, Cell, Subsystem \n",
    "from scipy.constants import speed_of_light as c_light\n",
    "import matplotlib.pyplot as plt\n",
    "%matplotlib inline"
   ]
  },
  {
   "cell_type": "code",
   "execution_count": 25,
   "id": "cf3df357-f1fe-4bd0-9510-02fd7e2a55bf",
   "metadata": {},
   "outputs": [],
   "source": [
    "# Load the saved capacitance matrix\n",
    "cap_matrix = load_capacitance_matrix_from_file(\"cap_matrix.txt\")"
   ]
  },
  {
   "cell_type": "code",
   "execution_count": 26,
   "id": "9705e531-ef68-4b6b-bbc6-6a8b69ba0a12",
   "metadata": {},
   "outputs": [],
   "source": [
    "# Define cells\n",
    "opt1 = dict(\n",
    "    node_rename = {'Q1_coupler1_connector_pad': 'coupler1', 'Q1_coupler2_connector_pad': 'coupler2', 'Q1_readout_connector_pad': 'readout'}, \n",
    "    cap_mat = cap_matrix,\n",
    "    ind_dict = {('Q1_pad_top', 'Q1_pad_bot'): 12},  # junction inductance in nH\n",
    "    jj_dict = {('Q1_pad_top', 'Q1_pad_bot'): 'j1'},\n",
    "    cj_dict = {('Q1_pad_top', 'Q1_pad_bot'): 2}, # junction capacitance in fF\n",
    ")\n",
    "cell_1 = Cell(opt1)"
   ]
  },
  {
   "cell_type": "code",
   "execution_count": 28,
   "id": "d5c8c296-13f9-4ec9-8daf-96f2f882b923",
   "metadata": {},
   "outputs": [],
   "source": [
    "# Define subsystems\n",
    "# subsystem 1: Transmon\n",
    "transmon = Subsystem(name='transmon1_sys', sys_type='TRANSMON', nodes=['j1'])\n",
    "\n",
    "# subsystem 2: Coupler 1\n",
    "q_opts = dict(\n",
    "    f_res = 7.4, # resonator dressed frequency in GHz\n",
    "    Z0 = 50, # characteristic impedance in Ohm\n",
    "    vp = 0.404314 * c_light # phase velocity \n",
    ")\n",
    "coup1 = Subsystem(name='coup1_sys', sys_type='TL_RESONATOR', nodes=['coupler1'], q_opts=q_opts)\n",
    "\n",
    "# subsystem 3: Coupler 2\n",
    "q_opts = dict(\n",
    "    f_res = 7.2, # resonator dressed frequency in GHz\n",
    "    Z0 = 50, # characteristic impedance in Ohm\n",
    "    vp = 0.404314 * c_light # phase velocity \n",
    ")\n",
    "coup2 = Subsystem(name='coup2_sys', sys_type='TL_RESONATOR', nodes=['coupler2'], q_opts=q_opts)\n",
    "\n",
    "# subsystem 4: Readout\n",
    "q_opts = dict(\n",
    "    f_res = 7, # resonator dressed frequency in GHz\n",
    "    Z0 = 50, # characteristic impedance in Ohm\n",
    "    vp = 0.404314 * c_light # phase velocity \n",
    ")\n",
    "readout = Subsystem(name='readout_sys', sys_type='TL_RESONATOR', nodes=['readout'], q_opts=q_opts)"
   ]
  },
  {
   "cell_type": "code",
   "execution_count": 29,
   "id": "4f44c894-aa2b-4632-b513-da391f101b93",
   "metadata": {},
   "outputs": [],
   "source": [
    "# Define the composite system\n",
    "composite_sys = CompositeSystem(\n",
    "    subsystems=[transmon, coup1, coup2, readout], \n",
    "    cells=[cell_1], \n",
    "    grd_node='ground_plane',\n",
    "    nodes_force_keep=['coupler1', 'coupler2', 'readout']\n",
    ")"
   ]
  },
  {
   "cell_type": "code",
   "execution_count": 30,
   "id": "86f39d01-c88f-4300-987f-0384703daf61",
   "metadata": {},
   "outputs": [
    {
     "name": "stdout",
     "output_type": "stream",
     "text": [
      "node_jj_basis:\n",
      "-------------\n",
      "\n",
      "['j1', 'Q1_pad_bot', 'coupler1', 'coupler2', 'readout']\n",
      "\n",
      "nodes_keep:\n",
      "-------------\n",
      "\n",
      "['j1', 'coupler1', 'coupler2', 'readout']\n",
      "\n",
      "\n",
      "L_inv_k (reduced inverse inductance matrix):\n",
      "-------------\n",
      "\n",
      "                j1  coupler1  coupler2  readout\n",
      "j1        0.083333       0.0       0.0      0.0\n",
      "coupler1  0.000000       0.0       0.0      0.0\n",
      "coupler2  0.000000       0.0       0.0      0.0\n",
      "readout   0.000000       0.0       0.0      0.0\n",
      "\n",
      "C_k (reduced capacitance matrix):\n",
      "-------------\n",
      "\n",
      "                 j1   coupler1   coupler2    readout\n",
      "j1        74.410530  -6.911401  -6.885217   8.875542\n",
      "coupler1  -6.911401  59.795154  -2.592493  -2.826398\n",
      "coupler2  -6.885217  -2.592493  59.277775  -2.821981\n",
      "readout    8.875542  -2.826398  -2.821981  63.314074\n",
      "\n",
      "\n"
     ]
    }
   ],
   "source": [
    "# Get the circuit graph object\n",
    "cg = composite_sys.circuitGraph()\n",
    "print(cg)"
   ]
  },
  {
   "cell_type": "code",
   "execution_count": 31,
   "id": "19fee4da-5659-4b3b-ad29-182565ee8933",
   "metadata": {},
   "outputs": [
    {
     "name": "stderr",
     "output_type": "stream",
     "text": [
      "WARNING:py.warnings:RuntimeWarning: divide by zero encountered in scalar divide\n",
      " c:\\users\\kianj\\desktop\\qiskit-metal\\qiskit-metal\\qiskit_metal\\analyses\\quantization\\lom_core_analysis.py: 170\n",
      "WARNING:py.warnings:RuntimeWarning: divide by zero encountered in scalar divide\n",
      " c:\\users\\kianj\\desktop\\qiskit-metal\\qiskit-metal\\qiskit_metal\\analyses\\quantization\\lom_core_analysis.py: 170\n",
      "WARNING:py.warnings:RuntimeWarning: divide by zero encountered in scalar divide\n",
      " c:\\users\\kianj\\desktop\\qiskit-metal\\qiskit-metal\\qiskit_metal\\analyses\\quantization\\lom_core_analysis.py: 170\n"
     ]
    },
    {
     "name": "stdout",
     "output_type": "stream",
     "text": [
      "HilbertSpace:  subsystems\n",
      "-------------------------\n",
      "\n",
      "Transmon------------| [Transmon_1]\n",
      "                    | EJ: 13621.792733898432\n",
      "                    | EC: 270.2519415544905\n",
      "                    | ng: 0.001\n",
      "                    | ncut: 22\n",
      "                    | truncated_dim: 10\n",
      "                    |\n",
      "                    | dim: 45\n",
      "\n",
      "\n",
      "Oscillator----------| [Oscillator_1]\n",
      "                    | E_osc: 7400.0\n",
      "                    | l_osc: None\n",
      "                    | truncated_dim: 3\n",
      "                    |\n",
      "                    | dim: 3\n",
      "\n",
      "\n",
      "Oscillator----------| [Oscillator_2]\n",
      "                    | E_osc: 7200.0\n",
      "                    | l_osc: None\n",
      "                    | truncated_dim: 3\n",
      "                    |\n",
      "                    | dim: 3\n",
      "\n",
      "\n",
      "Oscillator----------| [Oscillator_3]\n",
      "                    | E_osc: 7000\n",
      "                    | l_osc: None\n",
      "                    | truncated_dim: 3\n",
      "                    |\n",
      "                    | dim: 3\n",
      "\n",
      "\n"
     ]
    }
   ],
   "source": [
    "# Create a hilbert space with the composite system\n",
    "hilbertspace = composite_sys.create_hilbertspace()\n",
    "print(hilbertspace)"
   ]
  },
  {
   "cell_type": "code",
   "execution_count": 32,
   "id": "c18d596f-1778-4bf1-852c-6a3c7c8dc927",
   "metadata": {},
   "outputs": [
    {
     "name": "stderr",
     "output_type": "stream",
     "text": [
      "WARNING:py.warnings:RuntimeWarning: divide by zero encountered in scalar divide\n",
      " c:\\users\\kianj\\desktop\\qiskit-metal\\qiskit-metal\\qiskit_metal\\analyses\\quantization\\lom_core_analysis.py: 170\n",
      "WARNING:py.warnings:RuntimeWarning: divide by zero encountered in scalar divide\n",
      " c:\\users\\kianj\\desktop\\qiskit-metal\\qiskit-metal\\qiskit_metal\\analyses\\quantization\\lom_core_analysis.py: 170\n",
      "WARNING:py.warnings:RuntimeWarning: divide by zero encountered in scalar divide\n",
      " c:\\users\\kianj\\desktop\\qiskit-metal\\qiskit-metal\\qiskit_metal\\analyses\\quantization\\lom_core_analysis.py: 170\n"
     ]
    },
    {
     "data": {
      "text/latex": [
       "Quantum object: dims = [[10, 3, 3, 3], [10, 3, 3, 3]], shape = (270, 270), type = oper, isherm = True $ \\\\ \\left(\\begin{matrix}-1.098\\times10^{+04} & 0.097j & 0.0 & -0.083j & -10.439 & \\cdots & 0.0 & 0.0 & 0.0 & 0.0 & 0.0\\\\-0.097j & -3.978\\times10^{+03} & 0.138j & 10.439 & -0.083j & \\cdots & 0.0 & 0.0 & 0.0 & 0.0 & 0.0\\\\0.0 & -0.138j & 3.022\\times10^{+03} & 0.0 & 14.763 & \\cdots & 0.0 & 0.0 & 0.0 & 0.0 & 0.0\\\\0.083j & 10.439 & 0.0 & -3.778\\times10^{+03} & 0.097j & \\cdots & 0.0 & 0.0 & 0.0 & 0.0 & 0.0\\\\-10.439 & 0.083j & 14.763 & -0.097j & 3.222\\times10^{+03} & \\cdots & 0.0 & 0.0 & 0.0 & 0.0 & 0.0\\\\\\vdots & \\vdots & \\vdots & \\vdots & \\vdots & \\ddots & \\vdots & \\vdots & \\vdots & \\vdots & \\vdots\\\\0.0 & 0.0 & 0.0 & 0.0 & 0.0 & \\cdots & 5.690\\times10^{+04} & 662.392j & 14.763 & -567.007j & -20.878\\\\0.0 & 0.0 & 0.0 & 0.0 & 0.0 & \\cdots & -662.392j & 6.390\\times10^{+04} & 0.0 & 20.878 & -567.007j\\\\0.0 & 0.0 & 0.0 & 0.0 & 0.0 & \\cdots & 14.763 & 0.0 & 5.710\\times10^{+04} & 468.382j & 0.0\\\\0.0 & 0.0 & 0.0 & 0.0 & 0.0 & \\cdots & 567.007j & 20.878 & -468.382j & 6.410\\times10^{+04} & 662.392j\\\\0.0 & 0.0 & 0.0 & 0.0 & 0.0 & \\cdots & -20.878 & 567.007j & 0.0 & -662.392j & 7.110\\times10^{+04}\\\\\\end{matrix}\\right)$"
      ],
      "text/plain": [
       "Quantum object: dims = [[10, 3, 3, 3], [10, 3, 3, 3]], shape = (270, 270), type = oper, isherm = True\n",
       "Qobj data =\n",
       "[[-10977.76288312+0.00000000e+00j      0.        +9.72510247e-02j\n",
       "       0.        +0.00000000e+00j ...      0.        +0.00000000e+00j\n",
       "       0.        +0.00000000e+00j      0.        +0.00000000e+00j]\n",
       " [     0.        -9.72510247e-02j  -3977.76288312+0.00000000e+00j\n",
       "       0.        +1.37533718e-01j ...      0.        +0.00000000e+00j\n",
       "       0.        +0.00000000e+00j      0.        +0.00000000e+00j]\n",
       " [     0.        +0.00000000e+00j      0.        -1.37533718e-01j\n",
       "    3022.23711688+0.00000000e+00j ...      0.        +0.00000000e+00j\n",
       "       0.        +0.00000000e+00j      0.        +0.00000000e+00j]\n",
       " ...\n",
       " [     0.        +0.00000000e+00j      0.        +0.00000000e+00j\n",
       "       0.        +0.00000000e+00j ...  57101.59780185+0.00000000e+00j\n",
       "       0.        +4.68381677e+02j      0.        +0.00000000e+00j]\n",
       " [     0.        +0.00000000e+00j      0.        +0.00000000e+00j\n",
       "       0.        +0.00000000e+00j ...      0.        -4.68381677e+02j\n",
       "   64101.59780185+0.00000000e+00j      0.        +6.62391719e+02j]\n",
       " [     0.        +0.00000000e+00j      0.        +0.00000000e+00j\n",
       "       0.        +0.00000000e+00j ...      0.        +0.00000000e+00j\n",
       "       0.        -6.62391719e+02j  71101.59780185+0.00000000e+00j]]"
      ]
     },
     "execution_count": 32,
     "metadata": {},
     "output_type": "execute_result"
    }
   ],
   "source": [
    "# Add interaction between the subsystems\n",
    "hilbertspace = composite_sys.add_interaction()\n",
    "\n",
    "# Get the total hamiltonian of the composite system\n",
    "hilbertspace.hamiltonian()"
   ]
  },
  {
   "cell_type": "code",
   "execution_count": 33,
   "id": "b4c2cdfb-6ede-46eb-bbaf-c19f75b9a5d5",
   "metadata": {},
   "outputs": [
    {
     "name": "stdout",
     "output_type": "stream",
     "text": [
      "\n",
      "system frequencies in GHz:\n",
      "--------------------------\n",
      "{'transmon1_sys': 5.124936017945296, 'coup1_sys': 7.405318212803776, 'coup2_sys': 7.201365209719191, 'readout_sys': 7.004833625682796}\n",
      "\n",
      "Chi matrices in MHz\n",
      "--------------------------\n",
      "               transmon1_sys  coup1_sys  coup2_sys  readout_sys\n",
      "transmon1_sys    -305.008429  -1.451967  -1.016136    -2.443323\n",
      "coup1_sys          -1.451967   2.118727   0.083313    -0.004350\n",
      "coup2_sys          -1.016136   0.083313   2.028696     0.003237\n",
      "readout_sys        -2.443323  -0.004350   0.003237     2.810902\n"
     ]
    }
   ],
   "source": [
    "# Get the reults from the hamiltonian\n",
    "# Qubit frequency\n",
    "# Chi matrix (having anharmonicity and readout chi values)\n",
    "hamiltonian_results = composite_sys.hamiltonian_results(hilbertspace, evals_count=30)"
   ]
  },
  {
   "cell_type": "code",
   "execution_count": 34,
   "id": "8c01e33b-c8fa-464a-bd02-fa8e87f48b5a",
   "metadata": {},
   "outputs": [
    {
     "name": "stdout",
     "output_type": "stream",
     "text": [
      "Transmon frequency     : 5.124936017945296 GHz\n",
      "Transmon Anharmonicity : -305.008428809635 MHz\n",
      "Readou chi             : -2.443322938917845 MHz\n"
     ]
    }
   ],
   "source": [
    "chi_df = hamiltonian_results['chi_in_MHz'].to_dataframe()\n",
    "print(\"Transmon frequency     :\", hamiltonian_results['fQ_in_Ghz']['transmon1_sys'], \"GHz\")\n",
    "print(\"Transmon Anharmonicity :\", chi_df['transmon1_sys']['transmon1_sys'], \"MHz\")\n",
    "print(\"Readou chi             :\", chi_df['readout_sys']['transmon1_sys'], \"MHz\")"
   ]
  },
  {
   "cell_type": "code",
   "execution_count": 35,
   "id": "afdfe557-8d48-4a18-85bf-923aa2b63c07",
   "metadata": {},
   "outputs": [
    {
     "data": {
      "text/html": [
       "<div>\n",
       "<style scoped>\n",
       "    .dataframe tbody tr th:only-of-type {\n",
       "        vertical-align: middle;\n",
       "    }\n",
       "\n",
       "    .dataframe tbody tr th {\n",
       "        vertical-align: top;\n",
       "    }\n",
       "\n",
       "    .dataframe thead th {\n",
       "        text-align: right;\n",
       "    }\n",
       "</style>\n",
       "<table border=\"1\" class=\"dataframe\">\n",
       "  <thead>\n",
       "    <tr style=\"text-align: right;\">\n",
       "      <th></th>\n",
       "      <th>j1</th>\n",
       "      <th>coupler1</th>\n",
       "      <th>coupler2</th>\n",
       "      <th>readout</th>\n",
       "    </tr>\n",
       "  </thead>\n",
       "  <tbody>\n",
       "    <tr>\n",
       "      <th>j1</th>\n",
       "      <td>0.000000</td>\n",
       "      <td>85.847422</td>\n",
       "      <td>83.246882</td>\n",
       "      <td>-97.251150</td>\n",
       "    </tr>\n",
       "    <tr>\n",
       "      <th>coupler1</th>\n",
       "      <td>85.847422</td>\n",
       "      <td>0.000000</td>\n",
       "      <td>17.205269</td>\n",
       "      <td>10.733397</td>\n",
       "    </tr>\n",
       "    <tr>\n",
       "      <th>coupler2</th>\n",
       "      <td>83.246882</td>\n",
       "      <td>17.205269</td>\n",
       "      <td>0.000000</td>\n",
       "      <td>10.438864</td>\n",
       "    </tr>\n",
       "    <tr>\n",
       "      <th>readout</th>\n",
       "      <td>-97.251150</td>\n",
       "      <td>10.733397</td>\n",
       "      <td>10.438864</td>\n",
       "      <td>0.000000</td>\n",
       "    </tr>\n",
       "  </tbody>\n",
       "</table>\n",
       "</div>"
      ],
      "text/plain": [
       "                 j1   coupler1   coupler2    readout\n",
       "j1         0.000000  85.847422  83.246882 -97.251150\n",
       "coupler1  85.847422   0.000000  17.205269  10.733397\n",
       "coupler2  83.246882  17.205269   0.000000  10.438864\n",
       "readout  -97.251150  10.733397  10.438864   0.000000"
      ]
     },
     "execution_count": 35,
     "metadata": {},
     "output_type": "execute_result"
    }
   ],
   "source": [
    "# Get the coupling 'g' values between qubit and resonators\n",
    "composite_sys.compute_gs().to_dataframe()"
   ]
  },
  {
   "cell_type": "code",
   "execution_count": 36,
   "id": "963212c4-b31f-48c0-ac56-0058e477b9e0",
   "metadata": {},
   "outputs": [
    {
     "data": {
      "text/plain": [
       "defaultdict(dict,\n",
       "            {'j1': {'EJ': 13621.792733898432,\n",
       "              'EC': 270.2519415544905,\n",
       "              'Q_zpf': 3.204353268e-19,\n",
       "              'default_charge_op': Operator(op=array([[-22,   0,   0, ...,   0,   0,   0],\n",
       "                     [  0, -21,   0, ...,   0,   0,   0],\n",
       "                     [  0,   0, -20, ...,   0,   0,   0],\n",
       "                     ...,\n",
       "                     [  0,   0,   0, ...,  20,   0,   0],\n",
       "                     [  0,   0,   0, ...,   0,  21,   0],\n",
       "                     [  0,   0,   0, ...,   0,   0,  22]]), add_hc=False)}})"
      ]
     },
     "execution_count": 36,
     "metadata": {},
     "output_type": "execute_result"
    }
   ],
   "source": [
    "# Hamiltonian parameters for the transmon\n",
    "transmon.h_params"
   ]
  },
  {
   "cell_type": "code",
   "execution_count": 37,
   "id": "44627014-50d7-4f5c-b873-c7c438d6c6da",
   "metadata": {},
   "outputs": [
    {
     "name": "stderr",
     "output_type": "stream",
     "text": [
      "02:38PM 52s CRITICAL [_qt_message_handler]: line: 0, func: None(), file: None  WARNING: QWindowsNativeFileDialogBase::selectNameFilter: Invalid parameter '*.metal.py' not found in 'All Files (*)'.\n",
      "\n",
      "02:38PM 52s CRITICAL [_qt_message_handler]: line: 0, func: None(), file: None  WARNING: QWindowsNativeFileDialogBase::selectNameFilter: Invalid parameter '*.metal.py' not found in 'All Files (*)'.\n",
      "\n"
     ]
    },
    {
     "data": {
      "text/plain": [
       "True"
      ]
     },
     "execution_count": 37,
     "metadata": {},
     "output_type": "execute_result"
    }
   ],
   "source": [
    "# Close the Qiskit Metal GUI\n",
    "gui.main_window.close()"
   ]
  },
  {
   "cell_type": "code",
   "execution_count": null,
   "id": "9c3428fa-7009-451d-9032-a54ecf888791",
   "metadata": {},
   "outputs": [],
   "source": []
  }
 ],
 "metadata": {
  "kernelspec": {
   "display_name": "Python 3 (ipykernel)",
   "language": "python",
   "name": "python3"
  },
  "language_info": {
   "codemirror_mode": {
    "name": "ipython",
    "version": 3
   },
   "file_extension": ".py",
   "mimetype": "text/x-python",
   "name": "python",
   "nbconvert_exporter": "python",
   "pygments_lexer": "ipython3",
   "version": "3.11.11"
  }
 },
 "nbformat": 4,
 "nbformat_minor": 5
}
